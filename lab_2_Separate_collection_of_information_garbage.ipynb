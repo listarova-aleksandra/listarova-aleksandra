{
  "nbformat": 4,
  "nbformat_minor": 0,
  "metadata": {
    "colab": {
      "provenance": [],
      "authorship_tag": "ABX9TyM6iiYb2d92IwggKh/wT+gZ",
      "include_colab_link": true
    },
    "kernelspec": {
      "name": "python3",
      "display_name": "Python 3"
    },
    "language_info": {
      "name": "python"
    }
  },
  "cells": [
    {
      "cell_type": "markdown",
      "metadata": {
        "id": "view-in-github",
        "colab_type": "text"
      },
      "source": [
        "<a href=\"https://colab.research.google.com/github/listarova-aleksandra/listarova-aleksandra/blob/main/lab_2_Separate_collection_of_information_garbage.ipynb\" target=\"_parent\"><img src=\"https://colab.research.google.com/assets/colab-badge.svg\" alt=\"Open In Colab\"/></a>"
      ]
    },
    {
      "cell_type": "markdown",
      "source": [
        "# Лабораторная работа «Раздельный сбор информационного мусора»\n"
      ],
      "metadata": {
        "id": "2n_fER6Lxqmy"
      }
    },
    {
      "cell_type": "markdown",
      "source": [
        "****"
      ],
      "metadata": {
        "id": "yLPvcuPQusMr"
      }
    },
    {
      "cell_type": "markdown",
      "source": [
        "**Задача лабораторной - подготовка датасета к дальнейшей работе над ним. Необходимо обработать пропущенные занчения, удалить дубликаты, проанализировать уникальные значения.**"
      ],
      "metadata": {
        "id": "7ZXFoiV45Bld"
      }
    },
    {
      "cell_type": "markdown",
      "source": [
        "**Чистка данных - это крайне важный процесс. В ходе него мы ввыявляем неполные и неточные данные. Далее изменяем, удаляем, заменяем по необходимости.**"
      ],
      "metadata": {
        "id": "9n8c5SmWuFNP"
      }
    },
    {
      "cell_type": "markdown",
      "source": [
        "****"
      ],
      "metadata": {
        "id": "iWyp34dRupFG"
      }
    },
    {
      "cell_type": "code",
      "execution_count": null,
      "metadata": {
        "id": "lpFtfrqtwTTh"
      },
      "outputs": [],
      "source": [
        "import pandas as pd\n",
        "from google.colab import drive"
      ]
    },
    {
      "cell_type": "code",
      "source": [
        "df = pd.read_csv('music_log.csv')\n",
        "df"
      ],
      "metadata": {
        "colab": {
          "base_uri": "https://localhost:8080/",
          "height": 423
        },
        "id": "w9x7yfuYx0bz",
        "outputId": "093b93be-1f3a-4f8a-8349-07411256bac9"
      },
      "execution_count": null,
      "outputs": [
        {
          "output_type": "execute_result",
          "data": {
            "text/plain": [
              "        user_id  total play        Artist    genre                   track\n",
              "0      BF6EA5AF   92.851388    Marina Rei      pop                  Musica\n",
              "1      FB1E568E  282.981000  Stive Morgan  ambient             Love Planet\n",
              "2      FB1E568E  282.981000  Stive Morgan  ambient             Love Planet\n",
              "3      EF15C7BA    8.966000           NaN    dance     Loving Every Minute\n",
              "4      82F52E69  193.776327        Rixton      pop  Me And My Broken Heart\n",
              "...         ...         ...           ...      ...                     ...\n",
              "67958  2E27DF51  220.551837  Nadine Coyle      pop           Girls On Fire\n",
              "67959  4F29D4D5   26.127000  Digital Hero    dance               The Model\n",
              "67960  26B7058C  292.455000       Red God    metal               Действуй!\n",
              "67961  DB0038A8   11.529112  Less Chapell      pop                    Home\n",
              "67962  FE8684F6    0.100000           NaN      NaN                     NaN\n",
              "\n",
              "[67963 rows x 5 columns]"
            ],
            "text/html": [
              "\n",
              "  <div id=\"df-50574dce-3287-4964-bc98-e8d184244cf4\" class=\"colab-df-container\">\n",
              "    <div>\n",
              "<style scoped>\n",
              "    .dataframe tbody tr th:only-of-type {\n",
              "        vertical-align: middle;\n",
              "    }\n",
              "\n",
              "    .dataframe tbody tr th {\n",
              "        vertical-align: top;\n",
              "    }\n",
              "\n",
              "    .dataframe thead th {\n",
              "        text-align: right;\n",
              "    }\n",
              "</style>\n",
              "<table border=\"1\" class=\"dataframe\">\n",
              "  <thead>\n",
              "    <tr style=\"text-align: right;\">\n",
              "      <th></th>\n",
              "      <th>user_id</th>\n",
              "      <th>total play</th>\n",
              "      <th>Artist</th>\n",
              "      <th>genre</th>\n",
              "      <th>track</th>\n",
              "    </tr>\n",
              "  </thead>\n",
              "  <tbody>\n",
              "    <tr>\n",
              "      <th>0</th>\n",
              "      <td>BF6EA5AF</td>\n",
              "      <td>92.851388</td>\n",
              "      <td>Marina Rei</td>\n",
              "      <td>pop</td>\n",
              "      <td>Musica</td>\n",
              "    </tr>\n",
              "    <tr>\n",
              "      <th>1</th>\n",
              "      <td>FB1E568E</td>\n",
              "      <td>282.981000</td>\n",
              "      <td>Stive Morgan</td>\n",
              "      <td>ambient</td>\n",
              "      <td>Love Planet</td>\n",
              "    </tr>\n",
              "    <tr>\n",
              "      <th>2</th>\n",
              "      <td>FB1E568E</td>\n",
              "      <td>282.981000</td>\n",
              "      <td>Stive Morgan</td>\n",
              "      <td>ambient</td>\n",
              "      <td>Love Planet</td>\n",
              "    </tr>\n",
              "    <tr>\n",
              "      <th>3</th>\n",
              "      <td>EF15C7BA</td>\n",
              "      <td>8.966000</td>\n",
              "      <td>NaN</td>\n",
              "      <td>dance</td>\n",
              "      <td>Loving Every Minute</td>\n",
              "    </tr>\n",
              "    <tr>\n",
              "      <th>4</th>\n",
              "      <td>82F52E69</td>\n",
              "      <td>193.776327</td>\n",
              "      <td>Rixton</td>\n",
              "      <td>pop</td>\n",
              "      <td>Me And My Broken Heart</td>\n",
              "    </tr>\n",
              "    <tr>\n",
              "      <th>...</th>\n",
              "      <td>...</td>\n",
              "      <td>...</td>\n",
              "      <td>...</td>\n",
              "      <td>...</td>\n",
              "      <td>...</td>\n",
              "    </tr>\n",
              "    <tr>\n",
              "      <th>67958</th>\n",
              "      <td>2E27DF51</td>\n",
              "      <td>220.551837</td>\n",
              "      <td>Nadine Coyle</td>\n",
              "      <td>pop</td>\n",
              "      <td>Girls On Fire</td>\n",
              "    </tr>\n",
              "    <tr>\n",
              "      <th>67959</th>\n",
              "      <td>4F29D4D5</td>\n",
              "      <td>26.127000</td>\n",
              "      <td>Digital Hero</td>\n",
              "      <td>dance</td>\n",
              "      <td>The Model</td>\n",
              "    </tr>\n",
              "    <tr>\n",
              "      <th>67960</th>\n",
              "      <td>26B7058C</td>\n",
              "      <td>292.455000</td>\n",
              "      <td>Red God</td>\n",
              "      <td>metal</td>\n",
              "      <td>Действуй!</td>\n",
              "    </tr>\n",
              "    <tr>\n",
              "      <th>67961</th>\n",
              "      <td>DB0038A8</td>\n",
              "      <td>11.529112</td>\n",
              "      <td>Less Chapell</td>\n",
              "      <td>pop</td>\n",
              "      <td>Home</td>\n",
              "    </tr>\n",
              "    <tr>\n",
              "      <th>67962</th>\n",
              "      <td>FE8684F6</td>\n",
              "      <td>0.100000</td>\n",
              "      <td>NaN</td>\n",
              "      <td>NaN</td>\n",
              "      <td>NaN</td>\n",
              "    </tr>\n",
              "  </tbody>\n",
              "</table>\n",
              "<p>67963 rows × 5 columns</p>\n",
              "</div>\n",
              "    <div class=\"colab-df-buttons\">\n",
              "\n",
              "  <div class=\"colab-df-container\">\n",
              "    <button class=\"colab-df-convert\" onclick=\"convertToInteractive('df-50574dce-3287-4964-bc98-e8d184244cf4')\"\n",
              "            title=\"Convert this dataframe to an interactive table.\"\n",
              "            style=\"display:none;\">\n",
              "\n",
              "  <svg xmlns=\"http://www.w3.org/2000/svg\" height=\"24px\" viewBox=\"0 -960 960 960\">\n",
              "    <path d=\"M120-120v-720h720v720H120Zm60-500h600v-160H180v160Zm220 220h160v-160H400v160Zm0 220h160v-160H400v160ZM180-400h160v-160H180v160Zm440 0h160v-160H620v160ZM180-180h160v-160H180v160Zm440 0h160v-160H620v160Z\"/>\n",
              "  </svg>\n",
              "    </button>\n",
              "\n",
              "  <style>\n",
              "    .colab-df-container {\n",
              "      display:flex;\n",
              "      gap: 12px;\n",
              "    }\n",
              "\n",
              "    .colab-df-convert {\n",
              "      background-color: #E8F0FE;\n",
              "      border: none;\n",
              "      border-radius: 50%;\n",
              "      cursor: pointer;\n",
              "      display: none;\n",
              "      fill: #1967D2;\n",
              "      height: 32px;\n",
              "      padding: 0 0 0 0;\n",
              "      width: 32px;\n",
              "    }\n",
              "\n",
              "    .colab-df-convert:hover {\n",
              "      background-color: #E2EBFA;\n",
              "      box-shadow: 0px 1px 2px rgba(60, 64, 67, 0.3), 0px 1px 3px 1px rgba(60, 64, 67, 0.15);\n",
              "      fill: #174EA6;\n",
              "    }\n",
              "\n",
              "    .colab-df-buttons div {\n",
              "      margin-bottom: 4px;\n",
              "    }\n",
              "\n",
              "    [theme=dark] .colab-df-convert {\n",
              "      background-color: #3B4455;\n",
              "      fill: #D2E3FC;\n",
              "    }\n",
              "\n",
              "    [theme=dark] .colab-df-convert:hover {\n",
              "      background-color: #434B5C;\n",
              "      box-shadow: 0px 1px 3px 1px rgba(0, 0, 0, 0.15);\n",
              "      filter: drop-shadow(0px 1px 2px rgba(0, 0, 0, 0.3));\n",
              "      fill: #FFFFFF;\n",
              "    }\n",
              "  </style>\n",
              "\n",
              "    <script>\n",
              "      const buttonEl =\n",
              "        document.querySelector('#df-50574dce-3287-4964-bc98-e8d184244cf4 button.colab-df-convert');\n",
              "      buttonEl.style.display =\n",
              "        google.colab.kernel.accessAllowed ? 'block' : 'none';\n",
              "\n",
              "      async function convertToInteractive(key) {\n",
              "        const element = document.querySelector('#df-50574dce-3287-4964-bc98-e8d184244cf4');\n",
              "        const dataTable =\n",
              "          await google.colab.kernel.invokeFunction('convertToInteractive',\n",
              "                                                    [key], {});\n",
              "        if (!dataTable) return;\n",
              "\n",
              "        const docLinkHtml = 'Like what you see? Visit the ' +\n",
              "          '<a target=\"_blank\" href=https://colab.research.google.com/notebooks/data_table.ipynb>data table notebook</a>'\n",
              "          + ' to learn more about interactive tables.';\n",
              "        element.innerHTML = '';\n",
              "        dataTable['output_type'] = 'display_data';\n",
              "        await google.colab.output.renderOutput(dataTable, element);\n",
              "        const docLink = document.createElement('div');\n",
              "        docLink.innerHTML = docLinkHtml;\n",
              "        element.appendChild(docLink);\n",
              "      }\n",
              "    </script>\n",
              "  </div>\n",
              "\n",
              "\n",
              "<div id=\"df-e610696e-9726-487b-9a83-fbf2836df8b7\">\n",
              "  <button class=\"colab-df-quickchart\" onclick=\"quickchart('df-e610696e-9726-487b-9a83-fbf2836df8b7')\"\n",
              "            title=\"Suggest charts\"\n",
              "            style=\"display:none;\">\n",
              "\n",
              "<svg xmlns=\"http://www.w3.org/2000/svg\" height=\"24px\"viewBox=\"0 0 24 24\"\n",
              "     width=\"24px\">\n",
              "    <g>\n",
              "        <path d=\"M19 3H5c-1.1 0-2 .9-2 2v14c0 1.1.9 2 2 2h14c1.1 0 2-.9 2-2V5c0-1.1-.9-2-2-2zM9 17H7v-7h2v7zm4 0h-2V7h2v10zm4 0h-2v-4h2v4z\"/>\n",
              "    </g>\n",
              "</svg>\n",
              "  </button>\n",
              "\n",
              "<style>\n",
              "  .colab-df-quickchart {\n",
              "      --bg-color: #E8F0FE;\n",
              "      --fill-color: #1967D2;\n",
              "      --hover-bg-color: #E2EBFA;\n",
              "      --hover-fill-color: #174EA6;\n",
              "      --disabled-fill-color: #AAA;\n",
              "      --disabled-bg-color: #DDD;\n",
              "  }\n",
              "\n",
              "  [theme=dark] .colab-df-quickchart {\n",
              "      --bg-color: #3B4455;\n",
              "      --fill-color: #D2E3FC;\n",
              "      --hover-bg-color: #434B5C;\n",
              "      --hover-fill-color: #FFFFFF;\n",
              "      --disabled-bg-color: #3B4455;\n",
              "      --disabled-fill-color: #666;\n",
              "  }\n",
              "\n",
              "  .colab-df-quickchart {\n",
              "    background-color: var(--bg-color);\n",
              "    border: none;\n",
              "    border-radius: 50%;\n",
              "    cursor: pointer;\n",
              "    display: none;\n",
              "    fill: var(--fill-color);\n",
              "    height: 32px;\n",
              "    padding: 0;\n",
              "    width: 32px;\n",
              "  }\n",
              "\n",
              "  .colab-df-quickchart:hover {\n",
              "    background-color: var(--hover-bg-color);\n",
              "    box-shadow: 0 1px 2px rgba(60, 64, 67, 0.3), 0 1px 3px 1px rgba(60, 64, 67, 0.15);\n",
              "    fill: var(--button-hover-fill-color);\n",
              "  }\n",
              "\n",
              "  .colab-df-quickchart-complete:disabled,\n",
              "  .colab-df-quickchart-complete:disabled:hover {\n",
              "    background-color: var(--disabled-bg-color);\n",
              "    fill: var(--disabled-fill-color);\n",
              "    box-shadow: none;\n",
              "  }\n",
              "\n",
              "  .colab-df-spinner {\n",
              "    border: 2px solid var(--fill-color);\n",
              "    border-color: transparent;\n",
              "    border-bottom-color: var(--fill-color);\n",
              "    animation:\n",
              "      spin 1s steps(1) infinite;\n",
              "  }\n",
              "\n",
              "  @keyframes spin {\n",
              "    0% {\n",
              "      border-color: transparent;\n",
              "      border-bottom-color: var(--fill-color);\n",
              "      border-left-color: var(--fill-color);\n",
              "    }\n",
              "    20% {\n",
              "      border-color: transparent;\n",
              "      border-left-color: var(--fill-color);\n",
              "      border-top-color: var(--fill-color);\n",
              "    }\n",
              "    30% {\n",
              "      border-color: transparent;\n",
              "      border-left-color: var(--fill-color);\n",
              "      border-top-color: var(--fill-color);\n",
              "      border-right-color: var(--fill-color);\n",
              "    }\n",
              "    40% {\n",
              "      border-color: transparent;\n",
              "      border-right-color: var(--fill-color);\n",
              "      border-top-color: var(--fill-color);\n",
              "    }\n",
              "    60% {\n",
              "      border-color: transparent;\n",
              "      border-right-color: var(--fill-color);\n",
              "    }\n",
              "    80% {\n",
              "      border-color: transparent;\n",
              "      border-right-color: var(--fill-color);\n",
              "      border-bottom-color: var(--fill-color);\n",
              "    }\n",
              "    90% {\n",
              "      border-color: transparent;\n",
              "      border-bottom-color: var(--fill-color);\n",
              "    }\n",
              "  }\n",
              "</style>\n",
              "\n",
              "  <script>\n",
              "    async function quickchart(key) {\n",
              "      const quickchartButtonEl =\n",
              "        document.querySelector('#' + key + ' button');\n",
              "      quickchartButtonEl.disabled = true;  // To prevent multiple clicks.\n",
              "      quickchartButtonEl.classList.add('colab-df-spinner');\n",
              "      try {\n",
              "        const charts = await google.colab.kernel.invokeFunction(\n",
              "            'suggestCharts', [key], {});\n",
              "      } catch (error) {\n",
              "        console.error('Error during call to suggestCharts:', error);\n",
              "      }\n",
              "      quickchartButtonEl.classList.remove('colab-df-spinner');\n",
              "      quickchartButtonEl.classList.add('colab-df-quickchart-complete');\n",
              "    }\n",
              "    (() => {\n",
              "      let quickchartButtonEl =\n",
              "        document.querySelector('#df-e610696e-9726-487b-9a83-fbf2836df8b7 button');\n",
              "      quickchartButtonEl.style.display =\n",
              "        google.colab.kernel.accessAllowed ? 'block' : 'none';\n",
              "    })();\n",
              "  </script>\n",
              "</div>\n",
              "\n",
              "  <div id=\"id_055d3bbf-2a29-414d-9ad5-e75ebd366c84\">\n",
              "    <style>\n",
              "      .colab-df-generate {\n",
              "        background-color: #E8F0FE;\n",
              "        border: none;\n",
              "        border-radius: 50%;\n",
              "        cursor: pointer;\n",
              "        display: none;\n",
              "        fill: #1967D2;\n",
              "        height: 32px;\n",
              "        padding: 0 0 0 0;\n",
              "        width: 32px;\n",
              "      }\n",
              "\n",
              "      .colab-df-generate:hover {\n",
              "        background-color: #E2EBFA;\n",
              "        box-shadow: 0px 1px 2px rgba(60, 64, 67, 0.3), 0px 1px 3px 1px rgba(60, 64, 67, 0.15);\n",
              "        fill: #174EA6;\n",
              "      }\n",
              "\n",
              "      [theme=dark] .colab-df-generate {\n",
              "        background-color: #3B4455;\n",
              "        fill: #D2E3FC;\n",
              "      }\n",
              "\n",
              "      [theme=dark] .colab-df-generate:hover {\n",
              "        background-color: #434B5C;\n",
              "        box-shadow: 0px 1px 3px 1px rgba(0, 0, 0, 0.15);\n",
              "        filter: drop-shadow(0px 1px 2px rgba(0, 0, 0, 0.3));\n",
              "        fill: #FFFFFF;\n",
              "      }\n",
              "    </style>\n",
              "    <button class=\"colab-df-generate\" onclick=\"generateWithVariable('df')\"\n",
              "            title=\"Generate code using this dataframe.\"\n",
              "            style=\"display:none;\">\n",
              "\n",
              "  <svg xmlns=\"http://www.w3.org/2000/svg\" height=\"24px\"viewBox=\"0 0 24 24\"\n",
              "       width=\"24px\">\n",
              "    <path d=\"M7,19H8.4L18.45,9,17,7.55,7,17.6ZM5,21V16.75L18.45,3.32a2,2,0,0,1,2.83,0l1.4,1.43a1.91,1.91,0,0,1,.58,1.4,1.91,1.91,0,0,1-.58,1.4L9.25,21ZM18.45,9,17,7.55Zm-12,3A5.31,5.31,0,0,0,4.9,8.1,5.31,5.31,0,0,0,1,6.5,5.31,5.31,0,0,0,4.9,4.9,5.31,5.31,0,0,0,6.5,1,5.31,5.31,0,0,0,8.1,4.9,5.31,5.31,0,0,0,12,6.5,5.46,5.46,0,0,0,6.5,12Z\"/>\n",
              "  </svg>\n",
              "    </button>\n",
              "    <script>\n",
              "      (() => {\n",
              "      const buttonEl =\n",
              "        document.querySelector('#id_055d3bbf-2a29-414d-9ad5-e75ebd366c84 button.colab-df-generate');\n",
              "      buttonEl.style.display =\n",
              "        google.colab.kernel.accessAllowed ? 'block' : 'none';\n",
              "\n",
              "      buttonEl.onclick = () => {\n",
              "        google.colab.notebook.generateWithVariable('df');\n",
              "      }\n",
              "      })();\n",
              "    </script>\n",
              "  </div>\n",
              "\n",
              "    </div>\n",
              "  </div>\n"
            ],
            "application/vnd.google.colaboratory.intrinsic+json": {
              "type": "dataframe",
              "variable_name": "df",
              "summary": "{\n  \"name\": \"df\",\n  \"rows\": 67963,\n  \"fields\": [\n    {\n      \"column\": \"  user_id\",\n      \"properties\": {\n        \"dtype\": \"string\",\n        \"num_unique_values\": 43240,\n        \"samples\": [\n          \"62106EA7\",\n          \"1BA998ED\",\n          \"37A0DFBC\"\n        ],\n        \"semantic_type\": \"\",\n        \"description\": \"\"\n      }\n    },\n    {\n      \"column\": \"total play\",\n      \"properties\": {\n        \"dtype\": \"number\",\n        \"std\": 144.46071312456078,\n        \"min\": 0.0,\n        \"max\": 8638.735999999999,\n        \"num_unique_values\": 37003,\n        \"samples\": [\n          396.0,\n          5.586,\n          229.957\n        ],\n        \"semantic_type\": \"\",\n        \"description\": \"\"\n      }\n    },\n    {\n      \"column\": \"Artist\",\n      \"properties\": {\n        \"dtype\": \"string\",\n        \"num_unique_values\": 55725,\n        \"samples\": [\n          \"Sleepfire\",\n          \"Alberto Mancione\",\n          \"Jeanette Lindstr\\u00f6m\"\n        ],\n        \"semantic_type\": \"\",\n        \"description\": \"\"\n      }\n    },\n    {\n      \"column\": \"genre\",\n      \"properties\": {\n        \"dtype\": \"category\",\n        \"num_unique_values\": 304,\n        \"samples\": [\n          \"christmas\",\n          \"chillhouse\",\n          \"mass\"\n        ],\n        \"semantic_type\": \"\",\n        \"description\": \"\"\n      }\n    },\n    {\n      \"column\": \"track\",\n      \"properties\": {\n        \"dtype\": \"string\",\n        \"num_unique_values\": 51443,\n        \"samples\": [\n          \"More Palatino (Jan Pieterszoon Sweelinck)\",\n          \"Amor Infinitus\",\n          \"Manamana\"\n        ],\n        \"semantic_type\": \"\",\n        \"description\": \"\"\n      }\n    }\n  ]\n}"
            }
          },
          "metadata": {},
          "execution_count": 31
        }
      ]
    },
    {
      "cell_type": "code",
      "source": [
        "df.info()"
      ],
      "metadata": {
        "colab": {
          "base_uri": "https://localhost:8080/"
        },
        "id": "jF9-5Bx7yAUI",
        "outputId": "8866b0f9-5e9e-4749-a4f5-6c562b7a89cd"
      },
      "execution_count": null,
      "outputs": [
        {
          "output_type": "stream",
          "name": "stdout",
          "text": [
            "<class 'pandas.core.frame.DataFrame'>\n",
            "RangeIndex: 67963 entries, 0 to 67962\n",
            "Data columns (total 5 columns):\n",
            " #   Column      Non-Null Count  Dtype  \n",
            "---  ------      --------------  -----  \n",
            " 0     user_id   67963 non-null  object \n",
            " 1   total play  67399 non-null  float64\n",
            " 2   Artist      59646 non-null  object \n",
            " 3   genre       64661 non-null  object \n",
            " 4   track       64804 non-null  object \n",
            "dtypes: float64(1), object(4)\n",
            "memory usage: 2.6+ MB\n"
          ]
        }
      ]
    },
    {
      "cell_type": "markdown",
      "source": [
        "**В этом датесете есть неудобство относительно названий столбцов: они названы хаотично; есть столбец,который начинается с заглавной буквы. В дальнейшей работе это может мешать, поэтому необходимо переименовать столбцы.**"
      ],
      "metadata": {
        "id": "TE5q6DYo52Zy"
      }
    },
    {
      "cell_type": "code",
      "source": [
        "df.columns"
      ],
      "metadata": {
        "id": "U69j3CBzyMSy",
        "colab": {
          "base_uri": "https://localhost:8080/"
        },
        "outputId": "8e38c638-9593-4339-a95b-873b1917753c"
      },
      "execution_count": null,
      "outputs": [
        {
          "output_type": "execute_result",
          "data": {
            "text/plain": [
              "Index(['  user_id', 'total play', 'Artist', 'genre', 'track'], dtype='object')"
            ]
          },
          "metadata": {},
          "execution_count": 33
        }
      ]
    },
    {
      "cell_type": "code",
      "source": [
        "df.rename({\"  user_id\": \"user_id\", \"total play\": \"total_play_seconds\", \"Artist\": \"artist_name\", \"genre\": \"genre_name\", \"track\": \"track_name\"}, axis = 1, inplace=True)"
      ],
      "metadata": {
        "id": "Z8UMaOKp3lRB"
      },
      "execution_count": null,
      "outputs": []
    },
    {
      "cell_type": "code",
      "source": [
        "df.columns"
      ],
      "metadata": {
        "colab": {
          "base_uri": "https://localhost:8080/"
        },
        "id": "EfyVbZEA6m0J",
        "outputId": "00c79f8b-d3fc-417f-d0f2-f60af52688d8"
      },
      "execution_count": null,
      "outputs": [
        {
          "output_type": "execute_result",
          "data": {
            "text/plain": [
              "Index(['user_id', 'total_play_seconds', 'artist_name', 'genre_name',\n",
              "       'track_name'],\n",
              "      dtype='object')"
            ]
          },
          "metadata": {},
          "execution_count": 35
        }
      ]
    },
    {
      "cell_type": "markdown",
      "source": [
        "**В датасете есть пропуски, которые могут доставить неудобства при работе с ним.**"
      ],
      "metadata": {
        "id": "PM0hOL8Ly3cj"
      }
    },
    {
      "cell_type": "code",
      "source": [
        "number_of_missing_values = df.isnull().sum()\n",
        "number_of_missing_values"
      ],
      "metadata": {
        "colab": {
          "base_uri": "https://localhost:8080/",
          "height": 241
        },
        "id": "4bM6RB8334Wq",
        "outputId": "a2929c99-02a3-41d8-e34d-b6a4f1aa33cf"
      },
      "execution_count": null,
      "outputs": [
        {
          "output_type": "execute_result",
          "data": {
            "text/plain": [
              "user_id                  0\n",
              "total_play_seconds     564\n",
              "artist_name           8317\n",
              "genre_name            3302\n",
              "track_name            3159\n",
              "dtype: int64"
            ],
            "text/html": [
              "<div>\n",
              "<style scoped>\n",
              "    .dataframe tbody tr th:only-of-type {\n",
              "        vertical-align: middle;\n",
              "    }\n",
              "\n",
              "    .dataframe tbody tr th {\n",
              "        vertical-align: top;\n",
              "    }\n",
              "\n",
              "    .dataframe thead th {\n",
              "        text-align: right;\n",
              "    }\n",
              "</style>\n",
              "<table border=\"1\" class=\"dataframe\">\n",
              "  <thead>\n",
              "    <tr style=\"text-align: right;\">\n",
              "      <th></th>\n",
              "      <th>0</th>\n",
              "    </tr>\n",
              "  </thead>\n",
              "  <tbody>\n",
              "    <tr>\n",
              "      <th>user_id</th>\n",
              "      <td>0</td>\n",
              "    </tr>\n",
              "    <tr>\n",
              "      <th>total_play_seconds</th>\n",
              "      <td>564</td>\n",
              "    </tr>\n",
              "    <tr>\n",
              "      <th>artist_name</th>\n",
              "      <td>8317</td>\n",
              "    </tr>\n",
              "    <tr>\n",
              "      <th>genre_name</th>\n",
              "      <td>3302</td>\n",
              "    </tr>\n",
              "    <tr>\n",
              "      <th>track_name</th>\n",
              "      <td>3159</td>\n",
              "    </tr>\n",
              "  </tbody>\n",
              "</table>\n",
              "</div><br><label><b>dtype:</b> int64</label>"
            ]
          },
          "metadata": {},
          "execution_count": 36
        }
      ]
    },
    {
      "cell_type": "code",
      "source": [
        "df['track_name'].fillna('unknown', inplace = True)"
      ],
      "metadata": {
        "id": "SzElDgRy4-CI",
        "colab": {
          "base_uri": "https://localhost:8080/"
        },
        "outputId": "33eb41b4-7316-4634-e852-249427d2a011"
      },
      "execution_count": null,
      "outputs": [
        {
          "output_type": "stream",
          "name": "stderr",
          "text": [
            "<ipython-input-37-d1def92e252f>:1: FutureWarning: A value is trying to be set on a copy of a DataFrame or Series through chained assignment using an inplace method.\n",
            "The behavior will change in pandas 3.0. This inplace method will never work because the intermediate object on which we are setting values always behaves as a copy.\n",
            "\n",
            "For example, when doing 'df[col].method(value, inplace=True)', try using 'df.method({col: value}, inplace=True)' or df[col] = df[col].method(value) instead, to perform the operation inplace on the original object.\n",
            "\n",
            "\n",
            "  df['track_name'].fillna('unknown', inplace = True)\n"
          ]
        }
      ]
    },
    {
      "cell_type": "code",
      "source": [
        "df['artist_name'].fillna('unknown', inplace = True)"
      ],
      "metadata": {
        "colab": {
          "base_uri": "https://localhost:8080/"
        },
        "id": "YHVwoH5hzmPn",
        "outputId": "f6ece5ea-ed32-45a3-d47c-df5226eb04bd"
      },
      "execution_count": null,
      "outputs": [
        {
          "output_type": "stream",
          "name": "stderr",
          "text": [
            "<ipython-input-38-b6d10057fab1>:1: FutureWarning: A value is trying to be set on a copy of a DataFrame or Series through chained assignment using an inplace method.\n",
            "The behavior will change in pandas 3.0. This inplace method will never work because the intermediate object on which we are setting values always behaves as a copy.\n",
            "\n",
            "For example, when doing 'df[col].method(value, inplace=True)', try using 'df.method({col: value}, inplace=True)' or df[col] = df[col].method(value) instead, to perform the operation inplace on the original object.\n",
            "\n",
            "\n",
            "  df['artist_name'].fillna('unknown', inplace = True)\n"
          ]
        }
      ]
    },
    {
      "cell_type": "code",
      "source": [
        "df.dropna(subset = 'genre_name')"
      ],
      "metadata": {
        "colab": {
          "base_uri": "https://localhost:8080/",
          "height": 458
        },
        "id": "dN03lZro7PhY",
        "outputId": "19219665-088a-4e61-fecc-fc9cbed1b543"
      },
      "execution_count": null,
      "outputs": [
        {
          "output_type": "execute_result",
          "data": {
            "text/plain": [
              "        user_id  total_play_seconds   artist_name genre_name  \\\n",
              "0      BF6EA5AF           92.851388    Marina Rei        pop   \n",
              "1      FB1E568E          282.981000  Stive Morgan    ambient   \n",
              "2      FB1E568E          282.981000  Stive Morgan    ambient   \n",
              "3      EF15C7BA            8.966000       unknown      dance   \n",
              "4      82F52E69          193.776327        Rixton        pop   \n",
              "...         ...                 ...           ...        ...   \n",
              "67957  18510741          109.000000   Steel Pulse     reggae   \n",
              "67958  2E27DF51          220.551837  Nadine Coyle        pop   \n",
              "67959  4F29D4D5           26.127000  Digital Hero      dance   \n",
              "67960  26B7058C          292.455000       Red God      metal   \n",
              "67961  DB0038A8           11.529112  Less Chapell        pop   \n",
              "\n",
              "                   track_name  \n",
              "0                      Musica  \n",
              "1                 Love Planet  \n",
              "2                 Love Planet  \n",
              "3         Loving Every Minute  \n",
              "4      Me And My Broken Heart  \n",
              "...                       ...  \n",
              "67957           Chant A Psalm  \n",
              "67958           Girls On Fire  \n",
              "67959               The Model  \n",
              "67960               Действуй!  \n",
              "67961                    Home  \n",
              "\n",
              "[64661 rows x 5 columns]"
            ],
            "text/html": [
              "\n",
              "  <div id=\"df-7a38e428-5b2a-4060-b792-1f75dd71f107\" class=\"colab-df-container\">\n",
              "    <div>\n",
              "<style scoped>\n",
              "    .dataframe tbody tr th:only-of-type {\n",
              "        vertical-align: middle;\n",
              "    }\n",
              "\n",
              "    .dataframe tbody tr th {\n",
              "        vertical-align: top;\n",
              "    }\n",
              "\n",
              "    .dataframe thead th {\n",
              "        text-align: right;\n",
              "    }\n",
              "</style>\n",
              "<table border=\"1\" class=\"dataframe\">\n",
              "  <thead>\n",
              "    <tr style=\"text-align: right;\">\n",
              "      <th></th>\n",
              "      <th>user_id</th>\n",
              "      <th>total_play_seconds</th>\n",
              "      <th>artist_name</th>\n",
              "      <th>genre_name</th>\n",
              "      <th>track_name</th>\n",
              "    </tr>\n",
              "  </thead>\n",
              "  <tbody>\n",
              "    <tr>\n",
              "      <th>0</th>\n",
              "      <td>BF6EA5AF</td>\n",
              "      <td>92.851388</td>\n",
              "      <td>Marina Rei</td>\n",
              "      <td>pop</td>\n",
              "      <td>Musica</td>\n",
              "    </tr>\n",
              "    <tr>\n",
              "      <th>1</th>\n",
              "      <td>FB1E568E</td>\n",
              "      <td>282.981000</td>\n",
              "      <td>Stive Morgan</td>\n",
              "      <td>ambient</td>\n",
              "      <td>Love Planet</td>\n",
              "    </tr>\n",
              "    <tr>\n",
              "      <th>2</th>\n",
              "      <td>FB1E568E</td>\n",
              "      <td>282.981000</td>\n",
              "      <td>Stive Morgan</td>\n",
              "      <td>ambient</td>\n",
              "      <td>Love Planet</td>\n",
              "    </tr>\n",
              "    <tr>\n",
              "      <th>3</th>\n",
              "      <td>EF15C7BA</td>\n",
              "      <td>8.966000</td>\n",
              "      <td>unknown</td>\n",
              "      <td>dance</td>\n",
              "      <td>Loving Every Minute</td>\n",
              "    </tr>\n",
              "    <tr>\n",
              "      <th>4</th>\n",
              "      <td>82F52E69</td>\n",
              "      <td>193.776327</td>\n",
              "      <td>Rixton</td>\n",
              "      <td>pop</td>\n",
              "      <td>Me And My Broken Heart</td>\n",
              "    </tr>\n",
              "    <tr>\n",
              "      <th>...</th>\n",
              "      <td>...</td>\n",
              "      <td>...</td>\n",
              "      <td>...</td>\n",
              "      <td>...</td>\n",
              "      <td>...</td>\n",
              "    </tr>\n",
              "    <tr>\n",
              "      <th>67957</th>\n",
              "      <td>18510741</td>\n",
              "      <td>109.000000</td>\n",
              "      <td>Steel Pulse</td>\n",
              "      <td>reggae</td>\n",
              "      <td>Chant A Psalm</td>\n",
              "    </tr>\n",
              "    <tr>\n",
              "      <th>67958</th>\n",
              "      <td>2E27DF51</td>\n",
              "      <td>220.551837</td>\n",
              "      <td>Nadine Coyle</td>\n",
              "      <td>pop</td>\n",
              "      <td>Girls On Fire</td>\n",
              "    </tr>\n",
              "    <tr>\n",
              "      <th>67959</th>\n",
              "      <td>4F29D4D5</td>\n",
              "      <td>26.127000</td>\n",
              "      <td>Digital Hero</td>\n",
              "      <td>dance</td>\n",
              "      <td>The Model</td>\n",
              "    </tr>\n",
              "    <tr>\n",
              "      <th>67960</th>\n",
              "      <td>26B7058C</td>\n",
              "      <td>292.455000</td>\n",
              "      <td>Red God</td>\n",
              "      <td>metal</td>\n",
              "      <td>Действуй!</td>\n",
              "    </tr>\n",
              "    <tr>\n",
              "      <th>67961</th>\n",
              "      <td>DB0038A8</td>\n",
              "      <td>11.529112</td>\n",
              "      <td>Less Chapell</td>\n",
              "      <td>pop</td>\n",
              "      <td>Home</td>\n",
              "    </tr>\n",
              "  </tbody>\n",
              "</table>\n",
              "<p>64661 rows × 5 columns</p>\n",
              "</div>\n",
              "    <div class=\"colab-df-buttons\">\n",
              "\n",
              "  <div class=\"colab-df-container\">\n",
              "    <button class=\"colab-df-convert\" onclick=\"convertToInteractive('df-7a38e428-5b2a-4060-b792-1f75dd71f107')\"\n",
              "            title=\"Convert this dataframe to an interactive table.\"\n",
              "            style=\"display:none;\">\n",
              "\n",
              "  <svg xmlns=\"http://www.w3.org/2000/svg\" height=\"24px\" viewBox=\"0 -960 960 960\">\n",
              "    <path d=\"M120-120v-720h720v720H120Zm60-500h600v-160H180v160Zm220 220h160v-160H400v160Zm0 220h160v-160H400v160ZM180-400h160v-160H180v160Zm440 0h160v-160H620v160ZM180-180h160v-160H180v160Zm440 0h160v-160H620v160Z\"/>\n",
              "  </svg>\n",
              "    </button>\n",
              "\n",
              "  <style>\n",
              "    .colab-df-container {\n",
              "      display:flex;\n",
              "      gap: 12px;\n",
              "    }\n",
              "\n",
              "    .colab-df-convert {\n",
              "      background-color: #E8F0FE;\n",
              "      border: none;\n",
              "      border-radius: 50%;\n",
              "      cursor: pointer;\n",
              "      display: none;\n",
              "      fill: #1967D2;\n",
              "      height: 32px;\n",
              "      padding: 0 0 0 0;\n",
              "      width: 32px;\n",
              "    }\n",
              "\n",
              "    .colab-df-convert:hover {\n",
              "      background-color: #E2EBFA;\n",
              "      box-shadow: 0px 1px 2px rgba(60, 64, 67, 0.3), 0px 1px 3px 1px rgba(60, 64, 67, 0.15);\n",
              "      fill: #174EA6;\n",
              "    }\n",
              "\n",
              "    .colab-df-buttons div {\n",
              "      margin-bottom: 4px;\n",
              "    }\n",
              "\n",
              "    [theme=dark] .colab-df-convert {\n",
              "      background-color: #3B4455;\n",
              "      fill: #D2E3FC;\n",
              "    }\n",
              "\n",
              "    [theme=dark] .colab-df-convert:hover {\n",
              "      background-color: #434B5C;\n",
              "      box-shadow: 0px 1px 3px 1px rgba(0, 0, 0, 0.15);\n",
              "      filter: drop-shadow(0px 1px 2px rgba(0, 0, 0, 0.3));\n",
              "      fill: #FFFFFF;\n",
              "    }\n",
              "  </style>\n",
              "\n",
              "    <script>\n",
              "      const buttonEl =\n",
              "        document.querySelector('#df-7a38e428-5b2a-4060-b792-1f75dd71f107 button.colab-df-convert');\n",
              "      buttonEl.style.display =\n",
              "        google.colab.kernel.accessAllowed ? 'block' : 'none';\n",
              "\n",
              "      async function convertToInteractive(key) {\n",
              "        const element = document.querySelector('#df-7a38e428-5b2a-4060-b792-1f75dd71f107');\n",
              "        const dataTable =\n",
              "          await google.colab.kernel.invokeFunction('convertToInteractive',\n",
              "                                                    [key], {});\n",
              "        if (!dataTable) return;\n",
              "\n",
              "        const docLinkHtml = 'Like what you see? Visit the ' +\n",
              "          '<a target=\"_blank\" href=https://colab.research.google.com/notebooks/data_table.ipynb>data table notebook</a>'\n",
              "          + ' to learn more about interactive tables.';\n",
              "        element.innerHTML = '';\n",
              "        dataTable['output_type'] = 'display_data';\n",
              "        await google.colab.output.renderOutput(dataTable, element);\n",
              "        const docLink = document.createElement('div');\n",
              "        docLink.innerHTML = docLinkHtml;\n",
              "        element.appendChild(docLink);\n",
              "      }\n",
              "    </script>\n",
              "  </div>\n",
              "\n",
              "\n",
              "<div id=\"df-d0f90952-0510-4459-8343-a2c2f861c765\">\n",
              "  <button class=\"colab-df-quickchart\" onclick=\"quickchart('df-d0f90952-0510-4459-8343-a2c2f861c765')\"\n",
              "            title=\"Suggest charts\"\n",
              "            style=\"display:none;\">\n",
              "\n",
              "<svg xmlns=\"http://www.w3.org/2000/svg\" height=\"24px\"viewBox=\"0 0 24 24\"\n",
              "     width=\"24px\">\n",
              "    <g>\n",
              "        <path d=\"M19 3H5c-1.1 0-2 .9-2 2v14c0 1.1.9 2 2 2h14c1.1 0 2-.9 2-2V5c0-1.1-.9-2-2-2zM9 17H7v-7h2v7zm4 0h-2V7h2v10zm4 0h-2v-4h2v4z\"/>\n",
              "    </g>\n",
              "</svg>\n",
              "  </button>\n",
              "\n",
              "<style>\n",
              "  .colab-df-quickchart {\n",
              "      --bg-color: #E8F0FE;\n",
              "      --fill-color: #1967D2;\n",
              "      --hover-bg-color: #E2EBFA;\n",
              "      --hover-fill-color: #174EA6;\n",
              "      --disabled-fill-color: #AAA;\n",
              "      --disabled-bg-color: #DDD;\n",
              "  }\n",
              "\n",
              "  [theme=dark] .colab-df-quickchart {\n",
              "      --bg-color: #3B4455;\n",
              "      --fill-color: #D2E3FC;\n",
              "      --hover-bg-color: #434B5C;\n",
              "      --hover-fill-color: #FFFFFF;\n",
              "      --disabled-bg-color: #3B4455;\n",
              "      --disabled-fill-color: #666;\n",
              "  }\n",
              "\n",
              "  .colab-df-quickchart {\n",
              "    background-color: var(--bg-color);\n",
              "    border: none;\n",
              "    border-radius: 50%;\n",
              "    cursor: pointer;\n",
              "    display: none;\n",
              "    fill: var(--fill-color);\n",
              "    height: 32px;\n",
              "    padding: 0;\n",
              "    width: 32px;\n",
              "  }\n",
              "\n",
              "  .colab-df-quickchart:hover {\n",
              "    background-color: var(--hover-bg-color);\n",
              "    box-shadow: 0 1px 2px rgba(60, 64, 67, 0.3), 0 1px 3px 1px rgba(60, 64, 67, 0.15);\n",
              "    fill: var(--button-hover-fill-color);\n",
              "  }\n",
              "\n",
              "  .colab-df-quickchart-complete:disabled,\n",
              "  .colab-df-quickchart-complete:disabled:hover {\n",
              "    background-color: var(--disabled-bg-color);\n",
              "    fill: var(--disabled-fill-color);\n",
              "    box-shadow: none;\n",
              "  }\n",
              "\n",
              "  .colab-df-spinner {\n",
              "    border: 2px solid var(--fill-color);\n",
              "    border-color: transparent;\n",
              "    border-bottom-color: var(--fill-color);\n",
              "    animation:\n",
              "      spin 1s steps(1) infinite;\n",
              "  }\n",
              "\n",
              "  @keyframes spin {\n",
              "    0% {\n",
              "      border-color: transparent;\n",
              "      border-bottom-color: var(--fill-color);\n",
              "      border-left-color: var(--fill-color);\n",
              "    }\n",
              "    20% {\n",
              "      border-color: transparent;\n",
              "      border-left-color: var(--fill-color);\n",
              "      border-top-color: var(--fill-color);\n",
              "    }\n",
              "    30% {\n",
              "      border-color: transparent;\n",
              "      border-left-color: var(--fill-color);\n",
              "      border-top-color: var(--fill-color);\n",
              "      border-right-color: var(--fill-color);\n",
              "    }\n",
              "    40% {\n",
              "      border-color: transparent;\n",
              "      border-right-color: var(--fill-color);\n",
              "      border-top-color: var(--fill-color);\n",
              "    }\n",
              "    60% {\n",
              "      border-color: transparent;\n",
              "      border-right-color: var(--fill-color);\n",
              "    }\n",
              "    80% {\n",
              "      border-color: transparent;\n",
              "      border-right-color: var(--fill-color);\n",
              "      border-bottom-color: var(--fill-color);\n",
              "    }\n",
              "    90% {\n",
              "      border-color: transparent;\n",
              "      border-bottom-color: var(--fill-color);\n",
              "    }\n",
              "  }\n",
              "</style>\n",
              "\n",
              "  <script>\n",
              "    async function quickchart(key) {\n",
              "      const quickchartButtonEl =\n",
              "        document.querySelector('#' + key + ' button');\n",
              "      quickchartButtonEl.disabled = true;  // To prevent multiple clicks.\n",
              "      quickchartButtonEl.classList.add('colab-df-spinner');\n",
              "      try {\n",
              "        const charts = await google.colab.kernel.invokeFunction(\n",
              "            'suggestCharts', [key], {});\n",
              "      } catch (error) {\n",
              "        console.error('Error during call to suggestCharts:', error);\n",
              "      }\n",
              "      quickchartButtonEl.classList.remove('colab-df-spinner');\n",
              "      quickchartButtonEl.classList.add('colab-df-quickchart-complete');\n",
              "    }\n",
              "    (() => {\n",
              "      let quickchartButtonEl =\n",
              "        document.querySelector('#df-d0f90952-0510-4459-8343-a2c2f861c765 button');\n",
              "      quickchartButtonEl.style.display =\n",
              "        google.colab.kernel.accessAllowed ? 'block' : 'none';\n",
              "    })();\n",
              "  </script>\n",
              "</div>\n",
              "\n",
              "    </div>\n",
              "  </div>\n"
            ],
            "application/vnd.google.colaboratory.intrinsic+json": {
              "type": "dataframe",
              "summary": "{\n  \"name\": \"df\",\n  \"rows\": 64661,\n  \"fields\": [\n    {\n      \"column\": \"user_id\",\n      \"properties\": {\n        \"dtype\": \"string\",\n        \"num_unique_values\": 41979,\n        \"samples\": [\n          \"72984E9\",\n          \"8EC60679\",\n          \"8C23032C\"\n        ],\n        \"semantic_type\": \"\",\n        \"description\": \"\"\n      }\n    },\n    {\n      \"column\": \"total_play_seconds\",\n      \"properties\": {\n        \"dtype\": \"number\",\n        \"std\": 137.46048162421954,\n        \"min\": 0.0,\n        \"max\": 4707.422018,\n        \"num_unique_values\": 36397,\n        \"samples\": [\n          205.919726,\n          12.005,\n          553.534\n        ],\n        \"semantic_type\": \"\",\n        \"description\": \"\"\n      }\n    },\n    {\n      \"column\": \"artist_name\",\n      \"properties\": {\n        \"dtype\": \"string\",\n        \"num_unique_values\": 55309,\n        \"samples\": [\n          \"Relative Q\",\n          \"Smiley_61st\",\n          \"Tomb of Finland\"\n        ],\n        \"semantic_type\": \"\",\n        \"description\": \"\"\n      }\n    },\n    {\n      \"column\": \"genre_name\",\n      \"properties\": {\n        \"dtype\": \"category\",\n        \"num_unique_values\": 304,\n        \"samples\": [\n          \"christmas\",\n          \"chillhouse\",\n          \"mass\"\n        ],\n        \"semantic_type\": \"\",\n        \"description\": \"\"\n      }\n    },\n    {\n      \"column\": \"track_name\",\n      \"properties\": {\n        \"dtype\": \"string\",\n        \"num_unique_values\": 51021,\n        \"samples\": [\n          \"Bleh chochek\",\n          \"Break Dance\",\n          \"Belleville rendez-vous\"\n        ],\n        \"semantic_type\": \"\",\n        \"description\": \"\"\n      }\n    }\n  ]\n}"
            }
          },
          "metadata": {},
          "execution_count": 39
        }
      ]
    },
    {
      "cell_type": "code",
      "source": [
        "df.info()"
      ],
      "metadata": {
        "colab": {
          "base_uri": "https://localhost:8080/"
        },
        "id": "H-sAVSrK9qsy",
        "outputId": "a1d8e57f-bce0-4c2e-dab3-cc9009f4eb53"
      },
      "execution_count": null,
      "outputs": [
        {
          "output_type": "stream",
          "name": "stdout",
          "text": [
            "<class 'pandas.core.frame.DataFrame'>\n",
            "RangeIndex: 67963 entries, 0 to 67962\n",
            "Data columns (total 5 columns):\n",
            " #   Column              Non-Null Count  Dtype  \n",
            "---  ------              --------------  -----  \n",
            " 0   user_id             67963 non-null  object \n",
            " 1   total_play_seconds  67399 non-null  float64\n",
            " 2   artist_name         67963 non-null  object \n",
            " 3   genre_name          64661 non-null  object \n",
            " 4   track_name          67963 non-null  object \n",
            "dtypes: float64(1), object(4)\n",
            "memory usage: 2.6+ MB\n"
          ]
        }
      ]
    },
    {
      "cell_type": "code",
      "source": [
        "shape_table = df.shape\n",
        "shape_table"
      ],
      "metadata": {
        "colab": {
          "base_uri": "https://localhost:8080/"
        },
        "id": "CMXv4TgM-I6K",
        "outputId": "8fbf212c-ebe3-4fca-bdcf-82ea0eef1783"
      },
      "execution_count": null,
      "outputs": [
        {
          "output_type": "execute_result",
          "data": {
            "text/plain": [
              "(67963, 5)"
            ]
          },
          "metadata": {},
          "execution_count": 41
        }
      ]
    },
    {
      "cell_type": "code",
      "source": [
        "duplicates_amount = df.duplicated().sum()\n",
        "duplicates_amount"
      ],
      "metadata": {
        "colab": {
          "base_uri": "https://localhost:8080/"
        },
        "id": "K3V5hdgq-YZD",
        "outputId": "a84d0919-786a-4479-c7a4-b8c9aa333920"
      },
      "execution_count": null,
      "outputs": [
        {
          "output_type": "execute_result",
          "data": {
            "text/plain": [
              "5313"
            ]
          },
          "metadata": {},
          "execution_count": 42
        }
      ]
    },
    {
      "cell_type": "markdown",
      "source": [
        "**Далее необходимо удалить дубликаты.  Дубликаты - одна из причин, почему данные могут быть 'неправильными'.**"
      ],
      "metadata": {
        "id": "H11yoBVGs0St"
      }
    },
    {
      "cell_type": "code",
      "source": [
        "df = df.drop_duplicates()"
      ],
      "metadata": {
        "id": "rd8ZcpUE-kNV"
      },
      "execution_count": null,
      "outputs": []
    },
    {
      "cell_type": "code",
      "source": [
        "duplicates_amount = df.duplicated().sum()\n",
        "duplicates_amount"
      ],
      "metadata": {
        "colab": {
          "base_uri": "https://localhost:8080/"
        },
        "id": "lLivWkEti4fA",
        "outputId": "4cfe718a-2313-4121-a3fd-13fb8fa37301"
      },
      "execution_count": null,
      "outputs": [
        {
          "output_type": "execute_result",
          "data": {
            "text/plain": [
              "0"
            ]
          },
          "metadata": {},
          "execution_count": 44
        }
      ]
    },
    {
      "cell_type": "code",
      "source": [
        "new_shape_table = df.shape"
      ],
      "metadata": {
        "id": "R011FNB3jA5n"
      },
      "execution_count": null,
      "outputs": []
    },
    {
      "cell_type": "code",
      "source": [
        "if shape_table == new_shape_table:\n",
        "    print(f'Размер таблицы не изменился. Текущий размер таблицы: {new_shape_table}')\n",
        "else:\n",
        "    print(f'Таблица уменьшилась, текущий размер: {new_shape_table}')"
      ],
      "metadata": {
        "colab": {
          "base_uri": "https://localhost:8080/"
        },
        "id": "J_Xa8P2rjjYW",
        "outputId": "680b873a-cce9-497a-a3c1-bdd3355bdcc2"
      },
      "execution_count": null,
      "outputs": [
        {
          "output_type": "stream",
          "name": "stdout",
          "text": [
            "Таблица уменьшилась, текущий размер: (62650, 5)\n"
          ]
        }
      ]
    },
    {
      "cell_type": "code",
      "source": [
        "unique_genres = df['genre_name'].unique()\n",
        "unique_genres"
      ],
      "metadata": {
        "colab": {
          "base_uri": "https://localhost:8080/"
        },
        "id": "LiCuDDEzmbOd",
        "outputId": "da306422-4d7c-49cb-9d49-58d2747260a9"
      },
      "execution_count": null,
      "outputs": [
        {
          "output_type": "execute_result",
          "data": {
            "text/plain": [
              "array(['pop', 'ambient', 'dance', 'jazz', 'classicmetal', 'electronic',\n",
              "       'indie', 'hiphop', nan, 'spoken', 'new', 'latin', 'extrememetal',\n",
              "       'instrumental', 'classical', 'alternative', 'rock', 'german',\n",
              "       'french', 'metal', 'dubstep', 'house', 'miscellaneous', 'rap',\n",
              "       'world', 'country', 'punk', 'rusrap', 'rnb', 'beats', 'ukrrock',\n",
              "       'inspiritual', 'ruspop', 'caucasian', 'rusrock', 'dub',\n",
              "       'soundtrack', 'folk', 'shanson', 'fairytail', 'hard-n-heavy',\n",
              "       'romance', 'religious', 'hardcore', 'orchestral', 'minimal',\n",
              "       'film', 'spiritual', 'melodic', 'trance', 'comedy', 'reggae',\n",
              "       'deep', 'mpb', 'techno', 'reggaeton', 'singer', 'karaoke',\n",
              "       'children', 'adult', 'western', 'psychedelic', 'grime',\n",
              "       'christian', 'holiday', 'argentinetango', 'disco', 'lounge',\n",
              "       'urban', 'local', 'progressive', 'other', 'funk', 'blues', 'easy',\n",
              "       'dancehall', 'tatar', 'conjazz', 'drum', 'chill', 'jpop',\n",
              "       'fitness', 'gospel', 'brazilian', 'vocal', 'chanson', 'gothic',\n",
              "       'irish', 'k-pop', 'acoustic', 'industrial', 'numetal', 'soul',\n",
              "       'experimental', 'relax', 'mexican', 'videogame', 'glitch',\n",
              "       'worldmusic', 'postrock', 'folkmetal', 'bossa', 'black', 'tech',\n",
              "       'schlager', 'chinese', 'educational', 'russian', 'international',\n",
              "       \"hard'n'heavy\", 'animated', 'americana', 'mass', 'downtempo',\n",
              "       'club', 'prog', 'bigroom', 'avantgarde', 'tropical', 'samba',\n",
              "       'jewish', 'epicmetal', 'halloween', 'middle', 'old', 'downbeat',\n",
              "       'gangsta', 'broadway', 'european', 'modern', 'opera', 'türkçe',\n",
              "       'estrada', 'deutschrock', 'posthardcore', 'progmetal', 'axé',\n",
              "       'sport', 'art', 'indian', 'future', 'ska', 'grunge', 'salsa',\n",
              "       'dark', 'synthrock', 'ethnic', 'folkrock', 'trip', 'asiapop',\n",
              "       'speech', 'bassline', 'funky', 'bluegrass', 'fusion', 'chillhouse',\n",
              "       'breaks', 'death', 'thrash', 'power', 'variété', 'post', 'celtic',\n",
              "       'rnr', 'self', 'nu', 'caribbean', 'balkan', 'cantopop',\n",
              "       'breakbeat', 'indonesia', 'regional', 'piano', 'inspirational',\n",
              "       'southern', 'traditional', 'mood', 'rockabilly', 'action', 'uzbek',\n",
              "       'contemporary', 'christmas', 'fado', 'solo', 'handsup',\n",
              "       'electropop', 'canzone', 'lecture', 'bollywood', 'dancepop',\n",
              "       'anime', 'korean', 'eurofolk', 'audiobook', 'garage', 'smooth',\n",
              "       'newage', 'top', 'rancheras', 'native', 'tradjazz', 'cuba',\n",
              "       'arabesk', 'synthpop', 'boleros', 'rhythm', 'swing', 'african',\n",
              "       'folklore', 'colombian', 'stonerrock', 'jam', 'specialty',\n",
              "       'quebecois', 'i̇slami', 'wort', 'afro', 'sertanejo', 'afrikaans',\n",
              "       'baile', 'eastern', 'synthi', 'surf', 'gabba', 'italo', 'tango',\n",
              "       'französisch', 'muslim', 'электроника', 'symphonic', 'dnb',\n",
              "       'japanese', 'cuban', 'acid', 'cantautori', 'idm', 'general',\n",
              "       'devotional', 'skarock', 'yoga', 'mandopop', 'bass', 'flamenco',\n",
              "       'türk', 'jiddisch', 'punjabi', 'symphony', 'entehno', 'latino',\n",
              "       'swingbeat', 'leftfield', 'rhythmic', 'hardstyle', 'crunk',\n",
              "       'hardtrance', 'goth', 'newwave', 'concerto', 'musique',\n",
              "       'meditative', 'bacheta', 'requiem', 'metalcore', 'freestyle',\n",
              "       'standards', 'emo', 'choral', 'drone', 'nujazz', 'roots',\n",
              "       'jumpstyle', 'merengue', 'chamber', 'dirty', 'kürtçe', 'oceania',\n",
              "       'soulful', 'gypsy', 'afrika', 'indipop', 'hymn', 'cajun', 'turbo',\n",
              "       'psychobilly', 'trumpet', 'broken', 'kayokyoku', 'doom', 'polka',\n",
              "       'blip', 'orgel', 'ranchera', 'deutscherock', 'retro', 'oratorio',\n",
              "       'alternativepunk', 'ukr', 'bolero', 'dj', 'acapella', 'djent',\n",
              "       'independent', 'şiir', 'shoegazing', 'rave'], dtype=object)"
            ]
          },
          "metadata": {},
          "execution_count": 47
        }
      ]
    },
    {
      "cell_type": "code",
      "source": [
        "electronic_genre_count = df[df['genre_name'] == 'электроника']['genre_name'].count()\n",
        "electronic_genre_count"
      ],
      "metadata": {
        "colab": {
          "base_uri": "https://localhost:8080/"
        },
        "id": "d6GYIeAyo0q5",
        "outputId": "d11307de-8b4e-4c6f-f512-3504b62a87a5"
      },
      "execution_count": null,
      "outputs": [
        {
          "output_type": "execute_result",
          "data": {
            "text/plain": [
              "2"
            ]
          },
          "metadata": {},
          "execution_count": 48
        }
      ]
    },
    {
      "cell_type": "code",
      "source": [
        "drive.mount('/content/drive')\n",
        "output_file_path ='/content/drive/My Drive/Colab Notebooks/vii/music_log_2.csv'\n",
        "df.to_csv(output_file_path, index = False)"
      ],
      "metadata": {
        "colab": {
          "base_uri": "https://localhost:8080/"
        },
        "id": "mhhuaxp1FGr3",
        "outputId": "d287e4be-7d9d-41bb-d7e4-093127fc421f"
      },
      "execution_count": null,
      "outputs": [
        {
          "output_type": "stream",
          "name": "stdout",
          "text": [
            "Mounted at /content/drive\n"
          ]
        }
      ]
    },
    {
      "cell_type": "markdown",
      "source": [
        "**По итогам лабораторной работы могу дать следующее ревью:**\n",
        "**было сделано прочтение данных, переименование столбцов, обработка пропусков, удаление дубликатов, анализ уникальных значений. Обработка датасета таким образом подготавливает его к дальнейшей работе. Например, эти данные могут быть испоьзованы для создания модели машинного обучения и тд.**"
      ],
      "metadata": {
        "id": "tRiyLQuiriEL"
      }
    }
  ]
}